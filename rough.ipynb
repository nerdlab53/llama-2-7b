{
 "cells": [
  {
   "cell_type": "markdown",
   "id": "23591599",
   "metadata": {},
   "source": [
    "## Rough Notebook for Understanding Terms in Llama 2 Notebook"
   ]
  },
  {
   "cell_type": "code",
   "execution_count": 1,
   "id": "2125798e",
   "metadata": {},
   "outputs": [],
   "source": [
    "import torch"
   ]
  },
  {
   "cell_type": "code",
   "execution_count": 4,
   "id": "bc1f2bcf",
   "metadata": {},
   "outputs": [
    {
     "name": "stdout",
     "output_type": "stream",
     "text": [
      "Matrix A : \n",
      "tensor([1, 2, 3, 4])\n",
      "Shape of A is : torch.Size([4])\n",
      "Matrix B : \n",
      "tensor([6, 7, 8, 9])\n",
      "Shape of B is : torch.Size([4])\n"
     ]
    }
   ],
   "source": [
    "a = torch.arange(1, 5)\n",
    "b = torch.arange(6, 10)\n",
    "print(\"Matrix A : \")\n",
    "print(a)\n",
    "print(f\"Shape of A is : {a.shape}\")\n",
    "print(\"Matrix B : \")\n",
    "print(b)\n",
    "print(f\"Shape of B is : {b.shape}\")"
   ]
  },
  {
   "cell_type": "code",
   "execution_count": 5,
   "id": "5ee31b02",
   "metadata": {},
   "outputs": [
    {
     "name": "stdout",
     "output_type": "stream",
     "text": [
      "Output matrix : \n",
      "tensor([[ 6.,  7.,  8.,  9.],\n",
      "        [12., 14., 16., 18.],\n",
      "        [18., 21., 24., 27.],\n",
      "        [24., 28., 32., 36.]])\n",
      "Output matrix shape : torch.Size([4, 4])\n"
     ]
    }
   ],
   "source": [
    "out = torch.outer(a, b).float()\n",
    "print(\"Output matrix : \")\n",
    "print(out)\n",
    "print(f\"Output matrix shape : {out.shape}\")"
   ]
  },
  {
   "cell_type": "code",
   "execution_count": 6,
   "id": "4f188a14",
   "metadata": {},
   "outputs": [
    {
     "name": "stdout",
     "output_type": "stream",
     "text": [
      "Ones like matrix : \n",
      "tensor([[1., 1., 1., 1.],\n",
      "        [1., 1., 1., 1.],\n",
      "        [1., 1., 1., 1.],\n",
      "        [1., 1., 1., 1.]])\n",
      "Ones like matrix shape : torch.Size([4, 4])\n"
     ]
    }
   ],
   "source": [
    "ones_like = torch.ones_like(out)\n",
    "print(\"Ones like matrix : \")\n",
    "print(ones_like)\n",
    "print(f\"Ones like matrix shape : {ones_like.shape}\")"
   ]
  },
  {
   "cell_type": "code",
   "execution_count": 7,
   "id": "bd2dc64a",
   "metadata": {},
   "outputs": [
    {
     "name": "stdout",
     "output_type": "stream",
     "text": [
      "Polar matrix : \n",
      "tensor([[ 0.9602-0.2794j,  0.7539+0.6570j, -0.1455+0.9894j, -0.9111+0.4121j],\n",
      "        [ 0.8439-0.5366j,  0.1367+0.9906j, -0.9577-0.2879j,  0.6603-0.7510j],\n",
      "        [ 0.6603-0.7510j, -0.5477+0.8367j,  0.4242-0.9056j, -0.2921+0.9564j],\n",
      "        [ 0.4242-0.9056j, -0.9626+0.2709j,  0.8342+0.5514j, -0.1280-0.9918j]])\n",
      "Polar matrix shape : torch.Size([4, 4])\n"
     ]
    }
   ],
   "source": [
    "polar = torch.polar(ones_like, out)\n",
    "print(\"Polar matrix : \")\n",
    "print(polar)\n",
    "print(f\"Polar matrix shape : {polar.shape}\")"
   ]
  },
  {
   "cell_type": "markdown",
   "id": "f44f85e7",
   "metadata": {},
   "source": [
    "### Polar Matrix calculation : \n",
    "\n",
    "To compute the polar form using `torch.polar` in PyTorch, follow these steps:\n",
    "\n",
    "### 1. **Outer Product Calculation**  \n",
    "The outer product of vectors `a` and `b` creates a matrix where each element `(i, j)` is `a[i] * b[j]`. This matrix (`out`) contains **angles in radians** for the polar form.  \n",
    "**Example**:  \n",
    "If `a = [1, 2, 3, 4]` and `b = [6, 7, 8, 9]`, the first row of `out` is:  \n",
    "`[1*6, 1*7, 1*8, 1*9] = [6, 7, 8, 9]` (angles in radians).\n",
    "\n",
    "---\n",
    "\n",
    "### 2. **Magnitude Matrix**  \n",
    "`torch.ones_like(out)` generates a matrix of the same shape as `out`, filled with `1.0`. This sets the **magnitude** of every complex number to 1.  \n",
    "\n",
    "---\n",
    "\n",
    "### 3. **Polar Conversion**  \n",
    "For each element in the matrices:  \n",
    "- **Magnitude**: Taken from `ones_like` (always `1.0` here).  \n",
    "- **Angle**: Taken from `out` (values like 6, 7, 8, 9 in radians).  \n",
    "\n",
    "The polar form is computed as:  \n",
    "$\n",
    "\\text{complex_number} = \\text{magnitude} \\cdot \\left( \\cos(\\text{angle}) + i \\cdot \\sin(\\text{angle}) \\right)\n",
    "$\n",
    "\n",
    "**Example Calculations**:  \n",
    "- For `angle = 6` (first element of `out`):  \n",
    "  $\n",
    "  \\cos(6) \\approx 0.9602, \\quad \\sin(6) \\approx -0.2794 \\implies 0.9602 - 0.2794i\n",
    "  $\n",
    "- For `angle = 7` (second element):  \n",
    "  $\n",
    "  \\cos(7) \\approx 0.7539, \\quad \\sin(7) \\approx 0.6570 \\implies 0.7539 + 0.6570i\n",
    "  $\n",
    "\n",
    "---\n",
    "\n",
    "### 4. **Result**  \n",
    "The final `polar` tensor is a **4x4 complex matrix** where each element lies on the unit circle (magnitude = 1) with angles derived from the outer product matrix.\n",
    "\n",
    "---\n",
    "\n",
    "### Key Formula:  \n",
    "$\n",
    "\\text{Polar element} = \\cos(\\theta) + i \\cdot \\sin(\\theta) \\quad \\text{where } \\theta \\text{ is from the outer product matrix}\n",
    "$  \n",
    "**Note**: Discrepancies in the user’s output (e.g., `sin(8) ≈ 0.0894` instead of `≈ 0.9894`) may indicate formatting errors or typos."
   ]
  },
  {
   "cell_type": "code",
   "execution_count": 10,
   "id": "1bc83381",
   "metadata": {},
   "outputs": [
    {
     "name": "stdout",
     "output_type": "stream",
     "text": [
      "Matrix : \n",
      "tensor([[ 0.1296,  0.3259],\n",
      "        [ 1.3146, -1.8053],\n",
      "        [-0.5212, -0.5961],\n",
      "        [ 0.7684,  1.0464],\n",
      "        [ 0.3083, -1.0735]])\n",
      "Complex matrix : \n",
      "tensor([ 0.1296+0.3259j,  1.3146-1.8053j, -0.5212-0.5961j,  0.7684+1.0464j,\n",
      "         0.3083-1.0735j])\n"
     ]
    }
   ],
   "source": [
    "mat = torch.randn(5,2)\n",
    "print(\"Matrix : \")\n",
    "print(mat)\n",
    "comp = torch.view_as_complex(mat.float())\n",
    "print(\"Complex matrix : \")\n",
    "print(comp)"
   ]
  },
  {
   "cell_type": "code",
   "execution_count": 15,
   "id": "b549a386",
   "metadata": {},
   "outputs": [
    {
     "name": "stdout",
     "output_type": "stream",
     "text": [
      "Currently shape of comp is : torch.Size([5])\n",
      "Comp reshaped : \n",
      "tensor([[ 0.1296+0.3259j],\n",
      "        [ 1.3146-1.8053j],\n",
      "        [-0.5212-0.5961j],\n",
      "        [ 0.7684+1.0464j],\n",
      "        [ 0.3083-1.0735j]])\n",
      "Shape of comp reshaped : torch.Size([5, 1])\n",
      "Intermediate mat : \n",
      "tensor([[[ 0.1296,  0.3259]],\n",
      "\n",
      "        [[ 1.3146, -1.8053]],\n",
      "\n",
      "        [[-0.5212, -0.5961]],\n",
      "\n",
      "        [[ 0.7684,  1.0464]],\n",
      "\n",
      "        [[ 0.3083, -1.0735]]])\n",
      "Shape of intermediate mat : torch.Size([5, 1, 2])\n"
     ]
    }
   ],
   "source": [
    "print(f\"Currently shape of comp is : {comp.shape}\")\n",
    "comp_reshaped = torch.view_as_complex(mat.float().reshape(*mat.shape[:-1], -1, 2))\n",
    "print(\"Comp reshaped : \")\n",
    "print(comp_reshaped)\n",
    "print(f\"Shape of comp reshaped : {comp_reshaped.shape}\")\n",
    "intermediate_mat = mat.float().reshape(*mat.shape[:-1], -1, 2)\n",
    "print(\"Intermediate mat : \")\n",
    "print(intermediate_mat)\n",
    "print(f\"Shape of intermediate mat : {intermediate_mat.shape}\")"
   ]
  },
  {
   "cell_type": "code",
   "execution_count": 21,
   "id": "b6769e71",
   "metadata": {},
   "outputs": [
    {
     "name": "stdout",
     "output_type": "stream",
     "text": [
      "tensor([[[ 0.1296,  0.3259]],\n",
      "\n",
      "        [[ 1.3146, -1.8053]],\n",
      "\n",
      "        [[-0.5212, -0.5961]],\n",
      "\n",
      "        [[ 0.7684,  1.0464]],\n",
      "\n",
      "        [[ 0.3083, -1.0735]]])\n",
      "Shape of Intermediate mat : torch.Size([5, 1, 2])\n",
      "Copy : \n",
      "tensor([[[[ 0.1296,  0.3259]],\n",
      "\n",
      "         [[ 1.3146, -1.8053]],\n",
      "\n",
      "         [[-0.5212, -0.5961]],\n",
      "\n",
      "         [[ 0.7684,  1.0464]],\n",
      "\n",
      "         [[ 0.3083, -1.0735]]]])\n",
      "New copy shape : torch.Size([1, 5, 1, 2])\n",
      "New Copy : \n",
      "tensor([[[[[ 0.1296,  0.3259]]],\n",
      "\n",
      "\n",
      "         [[[ 1.3146, -1.8053]]],\n",
      "\n",
      "\n",
      "         [[[-0.5212, -0.5961]]],\n",
      "\n",
      "\n",
      "         [[[ 0.7684,  1.0464]]],\n",
      "\n",
      "\n",
      "         [[[ 0.3083, -1.0735]]]]])\n",
      "Shape of new copy : torch.Size([1, 5, 1, 1, 2])\n"
     ]
    }
   ],
   "source": [
    "print(intermediate_mat)\n",
    "print(f\"Shape of Intermediate mat : {intermediate_mat.shape}\")\n",
    "'''\n",
    "Adding a dimension of 1 at the 0th position, \n",
    "so the shape goes from [5, 1, 2] -> [1, 5, 1, 2]\n",
    "'''\n",
    "copy = intermediate_mat.unsqueeze(0)\n",
    "print(\"Copy : \")\n",
    "print(copy)\n",
    "print(f\"New copy shape : {copy.shape}\")\n",
    "'''\n",
    "Adding a dimension of 1 at the 2nd position, \n",
    "so the shape goes from [1, 5, 1, 2] -> [1, 5, 1, 1, 2]\n",
    "'''\n",
    "new_copy = copy.unsqueeze(2)\n",
    "print(\"New Copy : \")\n",
    "print(new_copy)\n",
    "print(f\"Shape of new copy : {new_copy.shape}\")"
   ]
  },
  {
   "cell_type": "markdown",
   "id": "5a28faa9",
   "metadata": {},
   "source": [
    "### RMS Norm"
   ]
  },
  {
   "cell_type": "code",
   "execution_count": 43,
   "id": "ea2c7004",
   "metadata": {
    "scrolled": true
   },
   "outputs": [
    {
     "name": "stdout",
     "output_type": "stream",
     "text": [
      "Input tensor : \n",
      "tensor([[[ 1.,  2.,  3.,  4.],\n",
      "         [ 2.,  3.,  4.,  5.],\n",
      "         [ 5.,  6.,  7.,  8.]],\n",
      "\n",
      "        [[-1., -2., -3., -4.],\n",
      "         [-2., -3., -4., -5.],\n",
      "         [-5., -6., -7., -8.]]])\n",
      "After norm : \n",
      "tensor([[[ 0.3651,  0.7303,  1.0954,  1.4606],\n",
      "         [ 0.5443,  0.8165,  1.0887,  1.3608],\n",
      "         [ 0.7581,  0.9097,  1.0613,  1.2130]],\n",
      "\n",
      "        [[-0.3651, -0.7303, -1.0954, -1.4606],\n",
      "         [-0.5443, -0.8165, -1.0887, -1.3608],\n",
      "         [-0.7581, -0.9097, -1.0613, -1.2130]]], grad_fn=<MulBackward0>)\n"
     ]
    }
   ],
   "source": [
    "import torch\n",
    "import torch.nn as nn\n",
    "\n",
    "class RMSNorm(nn.Module):\n",
    "\n",
    "    def __init__(self, dim: int, eps: float = 1e-6):\n",
    "        super().__init__()\n",
    "        self.eps = eps\n",
    "        self.weight = nn.Parameter(torch.ones(dim))\n",
    "        \n",
    "    def _norm(self, x : torch.Tensor):\n",
    "        return x * torch.rsqrt(x.pow(2).mean(-1, keepdims=True) + self.eps)\n",
    "    \n",
    "    def forward(self, x: torch.Tensor):\n",
    "        return self.weight * self._norm(x.float()).type_as(x)\n",
    "    \n",
    "# input of (batch_size=2, seq_len=3, dim=4)\n",
    "x = torch.tensor([\n",
    "    [[1.0, 2.0, 3.0, 4.0], [2.0, 3.0, 4.0, 5.0], [5.0, 6.0, 7.0, 8.0]],\n",
    "    [[-1.0, -2.0, -3.0, -4.0], [-2.0, -3.0, -4.0, -5.0], [-5.0, -6.0, -7.0, -8.0]]\n",
    "])\n",
    "norm = RMSNorm(dim=4)\n",
    "print(\"Input tensor : \")\n",
    "print(x)\n",
    "print(\"After norm : \")\n",
    "print(norm(x))"
   ]
  },
  {
   "cell_type": "markdown",
   "id": "2b659de4",
   "metadata": {},
   "source": [
    "### **Step-by-Step Explanation of `x.pow(2).mean(-1, keepdims=True)`**\n",
    "\n",
    "---\n",
    "\n",
    "#### **1. `x.pow(2)`**  \n",
    "- **Purpose**: Squares every element in the tensor `x`.  \n",
    "- **Example**:  \n",
    "  If `x = [[1.0, 2.0], [3.0, 4.0]]`, then:  \n",
    "  ```python\n",
    "  x.pow(2) = [[1.0, 4.0], [9.0, 16.0]]\n",
    "  ```\n",
    "\n",
    "---\n",
    "\n",
    "#### **2. `.mean(-1, keepdims=True)`**  \n",
    "- **Purpose**:  \n",
    "  - Computes the **mean** across the **last dimension** (axis `-1`).  \n",
    "  - `keepdims=True` retains the original number of dimensions (e.g., keeps a 3D tensor as 3D).  \n",
    "\n",
    "- **Example**:  \n",
    "  Suppose `x.pow(2)` has shape `(2, 3, 4)` (batch size=2, sequence length=3, features=4).  \n",
    "  After `.mean(-1, keepdims=True)`:  \n",
    "  - **Shape**: `(2, 3, 1)` (mean computed over the last dimension, size 4 → 1).  \n",
    "  - **Result**: Each token (last dimension) is replaced by the mean of its squared values.  \n",
    "\n",
    "---\n",
    "\n",
    "#### **3. Full Example**  \n",
    "Let’s use a concrete tensor:  \n",
    "```python\n",
    "x = torch.tensor([\n",
    "    [[1.0, 2.0, 3.0, 4.0],  # Batch 1, Token 1\n",
    "     [2.0, 3.0, 4.0, 5.0]], # Batch 1, Token 2\n",
    "    \n",
    "    [[-1.0, -2.0, -3.0, -4.0],  # Batch 2, Token 1\n",
    "     [-2.0, -3.0, -4.0, -5.0]]  # Batch 2, Token 2\n",
    "])  # Shape: (2, 2, 4)\n",
    "```\n",
    "\n",
    "**Step 1: `x.pow(2)`**  \n",
    "```python\n",
    "tensor([\n",
    "    [[1.0, 4.0, 9.0, 16.0],\n",
    "     [4.0, 9.0, 16.0, 25.0]],\n",
    "    \n",
    "    [[1.0, 4.0, 9.0, 16.0],\n",
    "     [4.0, 9.0, 16.0, 25.0]]\n",
    "])\n",
    "```\n",
    "\n",
    "**Step 2: `.mean(-1, keepdims=True)`**  \n",
    "For each token vector (last dimension):  \n",
    "- Batch 1, Token 1: \\((1 + 4 + 9 + 16)/4 = 7.5\\)  \n",
    "- Batch 1, Token 2: \\((4 + 9 + 16 + 25)/4 = 13.5\\)  \n",
    "- Batch 2, Token 1: \\((1 + 4 + 9 + 16)/4 = 7.5\\)  \n",
    "- Batch 2, Token 2: \\((4 + 9 + 16 + 25)/4 = 13.5\\)  \n",
    "\n",
    "**Result**:  \n",
    "```python\n",
    "tensor([\n",
    "    [[7.5],  # Shape: (2, 2, 1)\n",
    "     [13.5]],\n",
    "    \n",
    "    [[7.5],\n",
    "     [13.5]]\n",
    "])\n",
    "```\n",
    "\n",
    "---\n",
    "\n",
    "#### **4. Why is this used in RMSNorm?**  \n",
    "- **RMS (Root Mean Square)**:  \n",
    "  $\n",
    "  \\text{RMS} = \\sqrt{\\text{mean}(x^2)}\n",
    "  $ \n",
    "  This term computes the mean of squared values (without the square root, since `torch.rsqrt` handles it later).  \n",
    "\n",
    "- **Normalization**:  \n",
    "  Each token is scaled by $\\frac{1}{\\sqrt{\\text{mean}(x^2) + \\epsilon}}$, ensuring features have consistent magnitude.  \n",
    "\n",
    "---\n",
    "\n",
    "#### **Key Formula**  \n",
    "$\n",
    "\\text{mean}(x^2) = \\frac{1}{d} \\sum_{i=1}^d x_i^2 \\quad \\text{(computed along the last dimension)}\n",
    "$  \n",
    "where \\(d\\) is the feature dimension (`dim` in the code).  \n",
    "\n",
    "**Note**: `keepdims=True` ensures the output shape matches the input for broadcasting (e.g., multiplying with `x`)."
   ]
  },
  {
   "cell_type": "code",
   "execution_count": null,
   "id": "134d9ea9",
   "metadata": {},
   "outputs": [],
   "source": []
  }
 ],
 "metadata": {
  "kernelspec": {
   "display_name": "torch2",
   "language": "python",
   "name": "torch2"
  },
  "language_info": {
   "codemirror_mode": {
    "name": "ipython",
    "version": 3
   },
   "file_extension": ".py",
   "mimetype": "text/x-python",
   "name": "python",
   "nbconvert_exporter": "python",
   "pygments_lexer": "ipython3",
   "version": "3.11.4"
  }
 },
 "nbformat": 4,
 "nbformat_minor": 5
}
